{
 "cells": [
  {
   "cell_type": "markdown",
   "metadata": {},
   "source": [
    "# Clothes Size Prediction Using Machine Learning\n",
    "\n",
    "\n",
    "# Introduction\n",
    "Online shopping has always been time saving and efficient. In this panademic it has become more helpful. \n",
    "People who are new to online shopping might face size problem. Even this might be issue to regularls. Size chart provided by shopping site have many lengths to measure. \n",
    "\n",
    "\n",
    "My  aim of this project is to create a machine learning model that will predict clothes size using only weight,height and age of the person.The dataset is taken from the [Kaggle \"Clothes-Size-Prediction\"](https://www.kaggle.com/tourist55/clothessizeprediction).\n",
    "name of the dataset is *final_test.csv* file. I will use the training data to both train and test our algorithms.\n",
    "\n",
    "I will compare 3 models for this problem and will try to fing better among them:\n",
    "\n",
    "1. Logistic Regression\n",
    "2. Decision Tree Classifier\n",
    "3. Random Forest Classifier\n",
    "\n",
    "But first, I will perform EDA on data to find interesting information about it."
   ]
  },
  {
   "cell_type": "code",
   "execution_count": 1,
   "metadata": {},
   "outputs": [
    {
     "name": "stdout",
     "output_type": "stream",
     "text": [
      "<class 'pandas.core.frame.DataFrame'>\n",
      "RangeIndex: 119734 entries, 0 to 119733\n",
      "Data columns (total 4 columns):\n",
      " #   Column  Non-Null Count   Dtype  \n",
      "---  ------  --------------   -----  \n",
      " 0   weight  119734 non-null  int64  \n",
      " 1   age     119477 non-null  float64\n",
      " 2   height  119404 non-null  float64\n",
      " 3   size    119734 non-null  object \n",
      "dtypes: float64(2), int64(1), object(1)\n",
      "memory usage: 3.7+ MB\n"
     ]
    }
   ],
   "source": [
    "import pandas as pd\n",
    "import numpy as np\n",
    "import matplotlib.pyplot as plt\n",
    "\n",
    "#Loading dataset \n",
    "ClothesSize = pd.read_csv(\"final_test.csv\")\n",
    "\n",
    "#displaying information\n",
    "ClothesSize.info()"
   ]
  },
  {
   "cell_type": "markdown",
   "metadata": {},
   "source": [
    "Above shown is the general information of dataset.\n",
    "\n",
    "Data set has 119734 rows with 4 columns/variables:\n",
    "1. Weight of a person - in Kg\n",
    "2. Age of a person - in Years\n",
    "3. Height of a person - in cm\n",
    "4. Size of Clothes - (S,M,L,etc.)"
   ]
  },
  {
   "cell_type": "markdown",
   "metadata": {},
   "source": [
    "# Methods\n",
    "This is how data looks in data set."
   ]
  },
  {
   "cell_type": "code",
   "execution_count": 2,
   "metadata": {},
   "outputs": [
    {
     "data": {
      "text/html": [
       "<div>\n",
       "<style scoped>\n",
       "    .dataframe tbody tr th:only-of-type {\n",
       "        vertical-align: middle;\n",
       "    }\n",
       "\n",
       "    .dataframe tbody tr th {\n",
       "        vertical-align: top;\n",
       "    }\n",
       "\n",
       "    .dataframe thead th {\n",
       "        text-align: right;\n",
       "    }\n",
       "</style>\n",
       "<table border=\"1\" class=\"dataframe\">\n",
       "  <thead>\n",
       "    <tr style=\"text-align: right;\">\n",
       "      <th></th>\n",
       "      <th>weight</th>\n",
       "      <th>age</th>\n",
       "      <th>height</th>\n",
       "      <th>size</th>\n",
       "    </tr>\n",
       "  </thead>\n",
       "  <tbody>\n",
       "    <tr>\n",
       "      <th>0</th>\n",
       "      <td>62</td>\n",
       "      <td>28.0</td>\n",
       "      <td>172.72</td>\n",
       "      <td>XL</td>\n",
       "    </tr>\n",
       "    <tr>\n",
       "      <th>1</th>\n",
       "      <td>59</td>\n",
       "      <td>36.0</td>\n",
       "      <td>167.64</td>\n",
       "      <td>L</td>\n",
       "    </tr>\n",
       "    <tr>\n",
       "      <th>2</th>\n",
       "      <td>61</td>\n",
       "      <td>34.0</td>\n",
       "      <td>165.10</td>\n",
       "      <td>M</td>\n",
       "    </tr>\n",
       "    <tr>\n",
       "      <th>3</th>\n",
       "      <td>65</td>\n",
       "      <td>27.0</td>\n",
       "      <td>175.26</td>\n",
       "      <td>L</td>\n",
       "    </tr>\n",
       "    <tr>\n",
       "      <th>4</th>\n",
       "      <td>62</td>\n",
       "      <td>45.0</td>\n",
       "      <td>172.72</td>\n",
       "      <td>M</td>\n",
       "    </tr>\n",
       "    <tr>\n",
       "      <th>5</th>\n",
       "      <td>50</td>\n",
       "      <td>27.0</td>\n",
       "      <td>160.02</td>\n",
       "      <td>S</td>\n",
       "    </tr>\n",
       "    <tr>\n",
       "      <th>6</th>\n",
       "      <td>53</td>\n",
       "      <td>65.0</td>\n",
       "      <td>160.02</td>\n",
       "      <td>M</td>\n",
       "    </tr>\n",
       "    <tr>\n",
       "      <th>7</th>\n",
       "      <td>51</td>\n",
       "      <td>33.0</td>\n",
       "      <td>160.02</td>\n",
       "      <td>XXS</td>\n",
       "    </tr>\n",
       "    <tr>\n",
       "      <th>8</th>\n",
       "      <td>54</td>\n",
       "      <td>26.0</td>\n",
       "      <td>167.64</td>\n",
       "      <td>M</td>\n",
       "    </tr>\n",
       "    <tr>\n",
       "      <th>9</th>\n",
       "      <td>53</td>\n",
       "      <td>32.0</td>\n",
       "      <td>165.10</td>\n",
       "      <td>S</td>\n",
       "    </tr>\n",
       "  </tbody>\n",
       "</table>\n",
       "</div>"
      ],
      "text/plain": [
       "   weight   age  height size\n",
       "0      62  28.0  172.72   XL\n",
       "1      59  36.0  167.64    L\n",
       "2      61  34.0  165.10    M\n",
       "3      65  27.0  175.26    L\n",
       "4      62  45.0  172.72    M\n",
       "5      50  27.0  160.02    S\n",
       "6      53  65.0  160.02    M\n",
       "7      51  33.0  160.02  XXS\n",
       "8      54  26.0  167.64    M\n",
       "9      53  32.0  165.10    S"
      ]
     },
     "execution_count": 2,
     "metadata": {},
     "output_type": "execute_result"
    }
   ],
   "source": [
    "#showing first 10 rows from dataset\n",
    "ClothesSize.head(10)\n"
   ]
  },
  {
   "cell_type": "markdown",
   "metadata": {},
   "source": [
    "Following table shows statistics information about Weight,Age and Height variable."
   ]
  },
  {
   "cell_type": "code",
   "execution_count": 3,
   "metadata": {},
   "outputs": [
    {
     "data": {
      "text/html": [
       "<div>\n",
       "<style scoped>\n",
       "    .dataframe tbody tr th:only-of-type {\n",
       "        vertical-align: middle;\n",
       "    }\n",
       "\n",
       "    .dataframe tbody tr th {\n",
       "        vertical-align: top;\n",
       "    }\n",
       "\n",
       "    .dataframe thead th {\n",
       "        text-align: right;\n",
       "    }\n",
       "</style>\n",
       "<table border=\"1\" class=\"dataframe\">\n",
       "  <thead>\n",
       "    <tr style=\"text-align: right;\">\n",
       "      <th></th>\n",
       "      <th>weight</th>\n",
       "      <th>age</th>\n",
       "      <th>height</th>\n",
       "    </tr>\n",
       "  </thead>\n",
       "  <tbody>\n",
       "    <tr>\n",
       "      <th>count</th>\n",
       "      <td>119734.000000</td>\n",
       "      <td>119477.000000</td>\n",
       "      <td>119404.000000</td>\n",
       "    </tr>\n",
       "    <tr>\n",
       "      <th>mean</th>\n",
       "      <td>61.756811</td>\n",
       "      <td>34.027311</td>\n",
       "      <td>165.805794</td>\n",
       "    </tr>\n",
       "    <tr>\n",
       "      <th>std</th>\n",
       "      <td>9.944863</td>\n",
       "      <td>8.149447</td>\n",
       "      <td>6.737651</td>\n",
       "    </tr>\n",
       "    <tr>\n",
       "      <th>min</th>\n",
       "      <td>22.000000</td>\n",
       "      <td>0.000000</td>\n",
       "      <td>137.160000</td>\n",
       "    </tr>\n",
       "    <tr>\n",
       "      <th>25%</th>\n",
       "      <td>55.000000</td>\n",
       "      <td>29.000000</td>\n",
       "      <td>160.020000</td>\n",
       "    </tr>\n",
       "    <tr>\n",
       "      <th>50%</th>\n",
       "      <td>61.000000</td>\n",
       "      <td>32.000000</td>\n",
       "      <td>165.100000</td>\n",
       "    </tr>\n",
       "    <tr>\n",
       "      <th>75%</th>\n",
       "      <td>67.000000</td>\n",
       "      <td>37.000000</td>\n",
       "      <td>170.180000</td>\n",
       "    </tr>\n",
       "    <tr>\n",
       "      <th>max</th>\n",
       "      <td>136.000000</td>\n",
       "      <td>117.000000</td>\n",
       "      <td>193.040000</td>\n",
       "    </tr>\n",
       "  </tbody>\n",
       "</table>\n",
       "</div>"
      ],
      "text/plain": [
       "              weight            age         height\n",
       "count  119734.000000  119477.000000  119404.000000\n",
       "mean       61.756811      34.027311     165.805794\n",
       "std         9.944863       8.149447       6.737651\n",
       "min        22.000000       0.000000     137.160000\n",
       "25%        55.000000      29.000000     160.020000\n",
       "50%        61.000000      32.000000     165.100000\n",
       "75%        67.000000      37.000000     170.180000\n",
       "max       136.000000     117.000000     193.040000"
      ]
     },
     "execution_count": 3,
     "metadata": {},
     "output_type": "execute_result"
    }
   ],
   "source": [
    "#describing the data set\n",
    "ClothesSize.describe()"
   ]
  },
  {
   "cell_type": "markdown",
   "metadata": {},
   "source": [
    "1. Average Weight from dataset is 61.75 Kg with minimum of 22 Kg and maximum of 136 Kg.\n",
    "2. Minimum Age present is 0 years to maximum age of 117 years with mean age of 34.02 years.\n",
    "3. For height variable, minimum value is 137.16 cm and maximum is 193.04 cm with average height of 165.80 cm"
   ]
  },
  {
   "cell_type": "code",
   "execution_count": 4,
   "metadata": {},
   "outputs": [
    {
     "name": "stdout",
     "output_type": "stream",
     "text": [
      "Unique sizes: ['XL' 'L' 'M' 'S' 'XXS' 'XXXL' 'XXL']\n"
     ]
    }
   ],
   "source": [
    "#Size\n",
    "\n",
    "Uniquesizes=ClothesSize[\"size\"].unique()\n",
    "print('Unique sizes:',Uniquesizes)"
   ]
  },
  {
   "cell_type": "markdown",
   "metadata": {},
   "source": [
    "This are the 7 unique sizes value ranging from XXS to XXXL."
   ]
  },
  {
   "cell_type": "markdown",
   "metadata": {},
   "source": [
    "# Cleaning data set\n",
    "As seen above that minimum age is found 0 , lets check data having age 0.\n"
   ]
  },
  {
   "cell_type": "code",
   "execution_count": 5,
   "metadata": {},
   "outputs": [
    {
     "data": {
      "text/html": [
       "<div>\n",
       "<style scoped>\n",
       "    .dataframe tbody tr th:only-of-type {\n",
       "        vertical-align: middle;\n",
       "    }\n",
       "\n",
       "    .dataframe tbody tr th {\n",
       "        vertical-align: top;\n",
       "    }\n",
       "\n",
       "    .dataframe thead th {\n",
       "        text-align: right;\n",
       "    }\n",
       "</style>\n",
       "<table border=\"1\" class=\"dataframe\">\n",
       "  <thead>\n",
       "    <tr style=\"text-align: right;\">\n",
       "      <th></th>\n",
       "      <th>weight</th>\n",
       "      <th>age</th>\n",
       "      <th>height</th>\n",
       "      <th>size</th>\n",
       "    </tr>\n",
       "  </thead>\n",
       "  <tbody>\n",
       "    <tr>\n",
       "      <th>1261</th>\n",
       "      <td>56</td>\n",
       "      <td>0.0</td>\n",
       "      <td>170.18</td>\n",
       "      <td>S</td>\n",
       "    </tr>\n",
       "    <tr>\n",
       "      <th>7142</th>\n",
       "      <td>56</td>\n",
       "      <td>0.0</td>\n",
       "      <td>170.18</td>\n",
       "      <td>S</td>\n",
       "    </tr>\n",
       "    <tr>\n",
       "      <th>9146</th>\n",
       "      <td>56</td>\n",
       "      <td>0.0</td>\n",
       "      <td>165.10</td>\n",
       "      <td>M</td>\n",
       "    </tr>\n",
       "    <tr>\n",
       "      <th>9324</th>\n",
       "      <td>58</td>\n",
       "      <td>0.0</td>\n",
       "      <td>172.72</td>\n",
       "      <td>XL</td>\n",
       "    </tr>\n",
       "    <tr>\n",
       "      <th>22046</th>\n",
       "      <td>56</td>\n",
       "      <td>0.0</td>\n",
       "      <td>170.18</td>\n",
       "      <td>S</td>\n",
       "    </tr>\n",
       "    <tr>\n",
       "      <th>23593</th>\n",
       "      <td>77</td>\n",
       "      <td>0.0</td>\n",
       "      <td>177.80</td>\n",
       "      <td>XXXL</td>\n",
       "    </tr>\n",
       "    <tr>\n",
       "      <th>28626</th>\n",
       "      <td>58</td>\n",
       "      <td>0.0</td>\n",
       "      <td>172.72</td>\n",
       "      <td>M</td>\n",
       "    </tr>\n",
       "    <tr>\n",
       "      <th>34758</th>\n",
       "      <td>58</td>\n",
       "      <td>0.0</td>\n",
       "      <td>172.72</td>\n",
       "      <td>L</td>\n",
       "    </tr>\n",
       "    <tr>\n",
       "      <th>35313</th>\n",
       "      <td>70</td>\n",
       "      <td>0.0</td>\n",
       "      <td>160.02</td>\n",
       "      <td>XXXL</td>\n",
       "    </tr>\n",
       "    <tr>\n",
       "      <th>40653</th>\n",
       "      <td>53</td>\n",
       "      <td>0.0</td>\n",
       "      <td>157.48</td>\n",
       "      <td>XXS</td>\n",
       "    </tr>\n",
       "  </tbody>\n",
       "</table>\n",
       "</div>"
      ],
      "text/plain": [
       "       weight  age  height  size\n",
       "1261       56  0.0  170.18     S\n",
       "7142       56  0.0  170.18     S\n",
       "9146       56  0.0  165.10     M\n",
       "9324       58  0.0  172.72    XL\n",
       "22046      56  0.0  170.18     S\n",
       "23593      77  0.0  177.80  XXXL\n",
       "28626      58  0.0  172.72     M\n",
       "34758      58  0.0  172.72     L\n",
       "35313      70  0.0  160.02  XXXL\n",
       "40653      53  0.0  157.48   XXS"
      ]
     },
     "execution_count": 5,
     "metadata": {},
     "output_type": "execute_result"
    }
   ],
   "source": [
    "#showing first 10 rows having age=0\n",
    "\n",
    "ClothesSize[ClothesSize[\"age\"]==0].head(10)"
   ]
  },
  {
   "cell_type": "markdown",
   "metadata": {},
   "source": [
    "These values do not make any sense. So, removing deleting some rows from dataset having less age values."
   ]
  },
  {
   "cell_type": "code",
   "execution_count": 6,
   "metadata": {},
   "outputs": [],
   "source": [
    "#only taking rows having age values more than 10\n",
    "\n",
    "ClothesSize = ClothesSize.loc[ClothesSize[\"age\"]>10]"
   ]
  },
  {
   "cell_type": "markdown",
   "metadata": {},
   "source": [
    "Checking for any NA values present\n"
   ]
  },
  {
   "cell_type": "code",
   "execution_count": 7,
   "metadata": {},
   "outputs": [
    {
     "data": {
      "text/plain": [
       "weight      0\n",
       "age         0\n",
       "height    324\n",
       "size        0\n",
       "dtype: int64"
      ]
     },
     "execution_count": 7,
     "metadata": {},
     "output_type": "execute_result"
    }
   ],
   "source": [
    "#check for NA values\n",
    "\n",
    "ClothesSize.isna().sum()"
   ]
  },
  {
   "cell_type": "markdown",
   "metadata": {},
   "source": [
    "There are some NA values present.\n",
    "So deleting rows having NA values."
   ]
  },
  {
   "cell_type": "code",
   "execution_count": 8,
   "metadata": {},
   "outputs": [
    {
     "data": {
      "text/plain": [
       "weight    0\n",
       "age       0\n",
       "height    0\n",
       "size      0\n",
       "dtype: int64"
      ]
     },
     "execution_count": 8,
     "metadata": {},
     "output_type": "execute_result"
    }
   ],
   "source": [
    "#dropping rows having NA values \n",
    "ClothesSize.dropna(axis=0,inplace=True)\n",
    "\n",
    "#confirming NAvalues\n",
    "ClothesSize.isna().sum()"
   ]
  },
  {
   "cell_type": "markdown",
   "metadata": {},
   "source": [
    "The data is clean now,I will analyse data now."
   ]
  },
  {
   "cell_type": "markdown",
   "metadata": {},
   "source": [
    "First, Let us check distribution of sizes"
   ]
  },
  {
   "cell_type": "code",
   "execution_count": 9,
   "metadata": {},
   "outputs": [
    {
     "data": {
      "image/png": "[encoded data removed]",
      "text/plain": [
       "<Figure size 432x288 with 1 Axes>"
      ]
     },
     "metadata": {
      "needs_background": "light"
     },
     "output_type": "display_data"
    }
   ],
   "source": [
    "#graph to check count of each sizes\n",
    "plt.hist(ClothesSize[\"size\"],color='green')\n",
    "plt.title(\"Clothes Size distribution\")\n",
    "plt.xlabel('Clothes Size')\n",
    "plt.ylabel('Count')\n",
    "plt.show()"
   ]
  },
  {
   "cell_type": "markdown",
   "metadata": {},
   "source": [
    "From the graph, Size with 'M' maximum count and size 'XXL' has very less count."
   ]
  },
  {
   "cell_type": "markdown",
   "metadata": {},
   "source": [
    "Graphs for remaining variables are as follows:"
   ]
  },
  {
   "cell_type": "code",
   "execution_count": 10,
   "metadata": {},
   "outputs": [
    {
     "data": {
      "image/png": "[encoded data removed]",
      "text/plain": [
       "<Figure size 432x288 with 1 Axes>"
      ]
     },
     "metadata": {
      "needs_background": "light"
     },
     "output_type": "display_data"
    }
   ],
   "source": [
    "#Graph for counting Age\n",
    "\n",
    "plt.hist(ClothesSize[\"age\"],color='lightblue')\n",
    "plt.title(\"Age distribution\")\n",
    "plt.xlabel('Age')\n",
    "plt.ylabel('Count')\n",
    "plt.show()\n"
   ]
  },
  {
   "cell_type": "markdown",
   "metadata": {},
   "source": [
    "Most people are of age between 30-40 years"
   ]
  },
  {
   "cell_type": "code",
   "execution_count": 11,
   "metadata": {},
   "outputs": [
    {
     "data": {
      "image/png": "[encoded data removed]",
      "text/plain": [
       "<Figure size 432x288 with 1 Axes>"
      ]
     },
     "metadata": {
      "needs_background": "light"
     },
     "output_type": "display_data"
    }
   ],
   "source": [
    "#Graph for counting Weight\n",
    "\n",
    "plt.hist(ClothesSize[\"weight\"],color='lightblue')\n",
    "plt.title(\"Weight distribution\")\n",
    "plt.xlabel('Weight')\n",
    "plt.ylabel('Count')\n",
    "plt.show()\n"
   ]
  },
  {
   "cell_type": "markdown",
   "metadata": {},
   "source": [
    "Most people are having weight between 40-80 Kgs."
   ]
  },
  {
   "cell_type": "code",
   "execution_count": 12,
   "metadata": {},
   "outputs": [
    {
     "data": {
      "image/png": "[encoded data removed]",
      "text/plain": [
       "<Figure size 432x288 with 1 Axes>"
      ]
     },
     "metadata": {
      "needs_background": "light"
     },
     "output_type": "display_data"
    }
   ],
   "source": [
    "#count of height\n",
    "\n",
    "plt.hist(ClothesSize[\"height\"],color='lightblue')\n",
    "plt.xlabel('Height')\n",
    "plt.title(\"height distribution\")\n",
    "plt.ylabel('Count')\n",
    "plt.show()"
   ]
  },
  {
   "cell_type": "markdown",
   "metadata": {},
   "source": [
    "Most people are having height between 160-170 cm."
   ]
  },
  {
   "cell_type": "markdown",
   "metadata": {},
   "source": [
    "Now let us see how variables are related to target variable size\n"
   ]
  },
  {
   "cell_type": "code",
   "execution_count": 13,
   "metadata": {},
   "outputs": [
    {
     "data": {
      "image/png": "[encoded data removed]",
      "text/plain": [
       "<Figure size 432x288 with 1 Axes>"
      ]
     },
     "metadata": {
      "needs_background": "light"
     },
     "output_type": "display_data"
    }
   ],
   "source": [
    "#Age vs Size graph\n",
    "x = ClothesSize[\"size\"]\n",
    "y=ClothesSize[\"age\"]\n",
    "\n",
    "plt.scatter(x, y,color='brown') \n",
    "plt.xlabel(\"Size\")\n",
    "plt.ylabel(\"Age\")\n",
    "plt.show()"
   ]
  },
  {
   "cell_type": "markdown",
   "metadata": {},
   "source": [
    "Every sizes has age group of 20-60 years."
   ]
  },
  {
   "cell_type": "code",
   "execution_count": 14,
   "metadata": {},
   "outputs": [
    {
     "data": {
      "image/png": "[encoded data removed]",
      "text/plain": [
       "<Figure size 432x288 with 1 Axes>"
      ]
     },
     "metadata": {
      "needs_background": "light"
     },
     "output_type": "display_data"
    }
   ],
   "source": [
    "#weight vs Size graph\n",
    "x = ClothesSize[\"size\"]\n",
    "y=ClothesSize[\"weight\"]\n",
    "plt.scatter(x, y,color='brown')\n",
    "plt.xlabel(\"Size\")\n",
    "plt.ylabel(\"Weight\")\n",
    "plt.show()"
   ]
  },
  {
   "cell_type": "markdown",
   "metadata": {},
   "source": [
    "only XXXL size has weight distribution from 20-140 kgs."
   ]
  },
  {
   "cell_type": "code",
   "execution_count": 15,
   "metadata": {},
   "outputs": [
    {
     "data": {
      "image/png": "[encoded data removed]",
      "text/plain": [
       "<Figure size 432x288 with 1 Axes>"
      ]
     },
     "metadata": {
      "needs_background": "light"
     },
     "output_type": "display_data"
    }
   ],
   "source": [
    "#height vs Size graph\n",
    "\n",
    "x = ClothesSize[\"size\"]\n",
    "y=ClothesSize[\"height\"]\n",
    "\n",
    "plt.scatter(x, y,color='brown')\n",
    "plt.xlabel(\"Size\")\n",
    "plt.ylabel(\"Height\")\n",
    "plt.show()"
   ]
  },
  {
   "cell_type": "markdown",
   "metadata": {},
   "source": [
    "So, I have decided to use 3 algorithms on the dataset to predict Clothes size.\n",
    "In order to do that first convert Sizes into numeric values."
   ]
  },
  {
   "cell_type": "code",
   "execution_count": 16,
   "metadata": {},
   "outputs": [],
   "source": [
    "ClothesSize[\"size\"] = ClothesSize[\"size\"].map({\"XL\" : 5,  \"L\" : 4, \"M\" : 3, 'S': 2, 'XXS': 1,  \"XXXL\" : 7 , \"XXL\" : 6})"
   ]
  },
  {
   "cell_type": "markdown",
   "metadata": {},
   "source": [
    "Before applying algorithms, I will split the data into training and testing set.\n",
    "For predicting size Age, Height and Weight are important variables.So selecting all of them for this problem."
   ]
  },
  {
   "cell_type": "code",
   "execution_count": 17,
   "metadata": {},
   "outputs": [
    {
     "name": "stdout",
     "output_type": "stream",
     "text": [
      "Count of Training data set: 89328\n",
      "Count of Testing data set: 29776\n"
     ]
    }
   ],
   "source": [
    "from sklearn.model_selection import train_test_split\n",
    "#Input variable-everything other than size\n",
    "X=ClothesSize.drop(['size'],axis=1)\n",
    "# Target variable\n",
    "y=ClothesSize['size']\n",
    "X_train, X_test, y_train, y_test = train_test_split(X, y,test_size =0.25,\n",
    "                                                    random_state=1, stratify=y)\n",
    "print(\"Count of Training data set:\",len(X_train))\n",
    "print(\"Count of Testing data set:\",len(X_test))"
   ]
  },
  {
   "cell_type": "markdown",
   "metadata": {},
   "source": [
    "# Results\n",
    "# 1. Logistic Regression"
   ]
  },
  {
   "cell_type": "code",
   "execution_count": 18,
   "metadata": {},
   "outputs": [
    {
     "name": "stdout",
     "output_type": "stream",
     "text": [
      "Accuracy using Logistic Regression on train data: 0.5\n",
      "Accuracy using Logistic Regression on test data: 0.5\n"
     ]
    }
   ],
   "source": [
    "#importing package for Logistic Regression\n",
    "from sklearn.linear_model import LogisticRegression\n",
    "#multinomial- for mutliclassification\n",
    "#using solver=saga\n",
    "#using C=20\n",
    "\n",
    "LR = LogisticRegression(solver=\"saga\" ,C=20, multi_class='multinomial',random_state=0)\n",
    "LR.fit(X_train,y_train)\n",
    "\n",
    "LRResultmodel = round(LR.score(X_test,y_test),2)\n",
    "LRResultmodel1 = round(LR.score(X_train,y_train),2)\n",
    "print(\"Accuracy using Logistic Regression on train data:\",LRResultmodel1)\n",
    "print(\"Accuracy using Logistic Regression on test data:\",LRResultmodel)"
   ]
  },
  {
   "cell_type": "markdown",
   "metadata": {},
   "source": [
    "Logistic Regression is giving 50% accuracy on test and train data.\n",
    "Using K-fold cross-validation method to compute mean accuracy:"
   ]
  },
  {
   "cell_type": "code",
   "execution_count": 19,
   "metadata": {},
   "outputs": [
    {
     "data": {
      "image/png": "[encoded data removed]",
      "text/plain": [
       "<Figure size 432x288 with 1 Axes>"
      ]
     },
     "metadata": {
      "needs_background": "light"
     },
     "output_type": "display_data"
    },
    {
     "name": "stdout",
     "output_type": "stream",
     "text": [
      "Mean performance by Logistic Regression is: 49.58\n"
     ]
    }
   ],
   "source": [
    "# using 4-fold cross-validation - compute the mean accuracy for Logistic Regression\n",
    "import math\n",
    "#For mean function\n",
    "from statistics import mean\n",
    "#importing package for Logistic Regression\n",
    "from sklearn.model_selection import cross_val_score\n",
    "k1=[1,2,3,4]\n",
    "k=4\n",
    "mod=LogisticRegression(solver=\"saga\" ,C=20.0, multi_class='multinomial',\n",
    "                       random_state=0,max_iter=200)\n",
    "#computing mean accurracy for each k value\n",
    "scores = cross_val_score(mod, X_train, y_train, cv=k)\n",
    "\n",
    "#plotting grpah of accuracy\n",
    "plt.bar(k1,scores,color=\"blue\")\n",
    "plt.title(\"4-fold cross-validation accuracy\")\n",
    "plt.xlabel(\"K values\")\n",
    "plt.ylabel(\"Mean Accuracy\")\n",
    "plt.show()\n",
    "\n",
    "#computing average performance\n",
    "meanv= round(mean(scores)*100,2)\n",
    "print('Mean performance by Logistic Regression is:',meanv)"
   ]
  },
  {
   "cell_type": "markdown",
   "metadata": {},
   "source": [
    "As shown above k-fold cross validation is giving around 50% accuracy for Logistic Regression model."
   ]
  },
  {
   "cell_type": "markdown",
   "metadata": {},
   "source": [
    "\n",
    "# 2.Decision Tree Classifier"
   ]
  },
  {
   "cell_type": "code",
   "execution_count": 20,
   "metadata": {},
   "outputs": [
    {
     "name": "stdout",
     "output_type": "stream",
     "text": [
      "Accuracy of Decision Tree Classifier on test data: 0.5128\n"
     ]
    }
   ],
   "source": [
    "#importing package for Decision Tree Classifier\n",
    "from sklearn import metrics\n",
    "from sklearn import tree\n",
    "#DecisionTreeClassifier for depth =10\n",
    "dt = tree.DecisionTreeClassifier(max_depth = 10, random_state=1) \n",
    "\n",
    "#fitting model on train set\n",
    "dt.fit(X_train,y_train)\n",
    "y_pred=dt.predict(X_test)\n",
    "#computing result\n",
    "DTCResult=round(metrics.accuracy_score(y_test, y_pred),4)\n",
    "print(\"Accuracy of Decision Tree Classifier on test data:\",DTCResult)"
   ]
  },
  {
   "cell_type": "markdown",
   "metadata": {},
   "source": [
    "Decision Tree Classifier is giving 51.28 % of accuracy. \n",
    "Using K-fold method,cross validate the Decision Tree Classifier:"
   ]
  },
  {
   "cell_type": "code",
   "execution_count": 21,
   "metadata": {},
   "outputs": [
    {
     "data": {
      "image/png": "[encoded data removed]",
      "text/plain": [
       "<Figure size 432x288 with 1 Axes>"
      ]
     },
     "metadata": {
      "needs_background": "light"
     },
     "output_type": "display_data"
    }
   ],
   "source": [
    "#Giving range for maximum depth\n",
    "maxd= [5,6,7,8,9,10,11,12,13,14,15]\n",
    "# mean accuracy for k folds for tree depth\n",
    "meanAccuracy = [] \n",
    "#for 6-fold\n",
    "k=6\n",
    "for i in range(0,len(maxd)):\n",
    "    decisiontree = tree.DecisionTreeClassifier(max_depth=maxd[i], random_state=i)\n",
    "    scores = cross_val_score(decisiontree, X, y, cv=k)\n",
    "    meanAccuracy.append(sum(scores)/len(scores))\n",
    "\n",
    "#plotting the graph\n",
    "plt.scatter(maxd,meanAccuracy,color=\"red\")\n",
    "plt.title(\"6-fold cross-validation accuracy\")\n",
    "plt.xlabel(\"Max depth of Tree \")\n",
    "plt.ylabel(\"Mean Accuracy\")\n",
    "plt.show()"
   ]
  },
  {
   "cell_type": "markdown",
   "metadata": {},
   "source": [
    "Graph shows Mean accuracy obtained by the model at different Maximum depth of tree values.\n",
    "So avaerage accuracy is still coming around 51%.\n"
   ]
  },
  {
   "cell_type": "markdown",
   "metadata": {},
   "source": [
    "# 2. Random Forest Classifier"
   ]
  },
  {
   "cell_type": "code",
   "execution_count": 22,
   "metadata": {},
   "outputs": [
    {
     "name": "stdout",
     "output_type": "stream",
     "text": [
      "Accuracy of  Random Forest Classifier on test set: 0.512\n"
     ]
    }
   ],
   "source": [
    "#importing package for Random Forest Classifier\n",
    "from sklearn.ensemble import RandomForestClassifier\n",
    "\n",
    "#writing model \n",
    "RFC = RandomForestClassifier(n_estimators=100,bootstrap=True,max_features='auto',\n",
    "                             criterion='gini',max_depth=200,random_state=3,oob_score=True)\n",
    "\n",
    "#fitting the model on train data\n",
    "RFC.fit(X_train,y_train)\n",
    "y_pred = RFC.predict(X_test)\n",
    "\n",
    "#computing accuracy result\n",
    "RFResult=round(metrics.accuracy_score(y_test, y_pred),4)\n",
    "print(\"Accuracy of  Random Forest Classifier on test set:\",RFResult)\n"
   ]
  },
  {
   "cell_type": "markdown",
   "metadata": {},
   "source": [
    "Random Forest Classifier is giving around 51.2 % accuracy.\n",
    "OOB score(Out of bag) is method for validating  Random forest classifier model. "
   ]
  },
  {
   "cell_type": "code",
   "execution_count": 23,
   "metadata": {},
   "outputs": [
    {
     "name": "stdout",
     "output_type": "stream",
     "text": [
      "OOB score: 0.509\n"
     ]
    }
   ],
   "source": [
    "#computing OOB score\n",
    "OOB=round(RFC.oob_score_,4)\n",
    "print(\"OOB score:\",OOB) # Alternative to test set validation method"
   ]
  },
  {
   "cell_type": "markdown",
   "metadata": {},
   "source": [
    "OOB score is almost same as accuracy. So model is working fine."
   ]
  },
  {
   "cell_type": "code",
   "execution_count": 24,
   "metadata": {},
   "outputs": [
    {
     "data": {
      "image/png": "[encoded data removed]",
      "text/plain": [
       "<Figure size 432x288 with 1 Axes>"
      ]
     },
     "metadata": {
      "needs_background": "light"
     },
     "output_type": "display_data"
    }
   ],
   "source": [
    "#Giving range for maximum depth\n",
    "maxd= [11,12,13,14,15]\n",
    "\n",
    "# mean accuracy for the k values on tree depth\n",
    "meanAccuracy = [] \n",
    "\n",
    "#for 4-folds\n",
    "k=4\n",
    "\n",
    "#computing 4-folds cross validation scores\n",
    "for i in range(0,len(maxd)):\n",
    "    RFC1=RandomForestClassifier(n_estimators=100,bootstrap=True,\n",
    "                                max_features='auto',criterion='gini',\n",
    "                                max_depth=maxd[i],random_state=i)\n",
    "    scores = cross_val_score(RFC1, X, y, cv=k)\n",
    "    meanAccuracy.append(sum(scores)/len(scores))\n",
    "    \n",
    "# plotting the graph\n",
    "\n",
    "plt.scatter(maxd,meanAccuracy,color=\"green\")\n",
    "plt.title(\"4-fold cross-validation accuracy for Random Forest Classifier\")\n",
    "plt.xlabel(\"Max depth of Tree \")\n",
    "plt.ylabel(\"Mean Accuracy\")\n",
    "plt.show()"
   ]
  },
  {
   "cell_type": "markdown",
   "metadata": {},
   "source": [
    "# Conclusion\n",
    "Comparing accuracy results from 3 algorithm:\n"
   ]
  },
  {
   "cell_type": "code",
   "execution_count": 25,
   "metadata": {},
   "outputs": [
    {
     "data": {
      "image/png": "[encoded data removed]",
      "text/plain": [
       "<Figure size 432x288 with 1 Axes>"
      ]
     },
     "metadata": {
      "needs_background": "light"
     },
     "output_type": "display_data"
    }
   ],
   "source": [
    "#plotting comparision graph\n",
    "#Names of 3 models used\n",
    "xax = [\"Logistic Regression\",\"Decision Tree\",\"Random Forest\"]\n",
    "#Accuracy of models\n",
    "yax = [LRResultmodel,DTCResult, RFResult]\n",
    "\n",
    "plt.bar(xax,yax,color='yellow');\n",
    "plt.ylabel(\"Accuracy of Model\")\n",
    "plt.title(\"Comparison of Accuracy\");\n",
    "plt.show()"
   ]
  },
  {
   "cell_type": "markdown",
   "metadata": {},
   "source": [
    "Logistic Regression is having lowest accuracy among all.\n",
    "Decision Tree Classifier and Random Forest Classifier have almost same accuracy. \n",
    "All 3 models are not fitting good as one needs.Accuracy can be improved further using other algortithms"
   ]
  },
  {
   "cell_type": "markdown",
   "metadata": {},
   "source": [
    "# References:\n",
    "1.https://moodle.essex.ac.uk/course/view.php?id=15076&section=10\n",
    "\n",
    "2.https://www.kaggle.com/tourist55/clothessizeprediction\n",
    "\n",
    "3.https://realpython.com/logistic-regression-python/"
   ]
  }
 ],
 "metadata": {
  "kernelspec": {
   "display_name": "Python 3",
   "language": "python",
   "name": "python3"
  },
  "language_info": {
   "codemirror_mode": {
    "name": "ipython",
    "version": 3
   },
   "file_extension": ".py",
   "mimetype": "text/x-python",
   "name": "python",
   "nbconvert_exporter": "python",
   "pygments_lexer": "ipython3",
   "version": "3.8.5"
  }
 },
 "nbformat": 4,
 "nbformat_minor": 4
}
